{
 "cells": [
  {
   "cell_type": "markdown",
   "metadata": {},
   "source": [
    "# Battle of Neighborhood Final\n"
   ]
  },
  {
   "cell_type": "markdown",
   "metadata": {},
   "source": [
    "\n",
    "This notebook consist of six parts.This notebook is continued version of \"The Battle of Neighborhoods (Week 1)\"\n",
    "\n",
    "1 Introduction/Business Problem\n",
    "\n",
    "   1.a Discussion of the business problem and the audience who would be interested in this project.\n",
    "\n",
    "2 Data Section\n",
    "\n",
    "   2.a What data is used?\n",
    "   2.b Importing Libraries\n",
    "   2.c Credentials and Core location\n",
    "   2.d Search for hotel & restaurant within 1 KM\n",
    "   2.e Location of Hotels\n",
    "\n",
    "3 Methodology Section\n",
    "\n",
    "   3.a Removing Outlier - Hotel Bharani\n",
    "   3.b How Far are hotels from the core location\n",
    "   3.c Explore for other venues around Kanyakumari\n",
    "   3.d Extract Venues using Search Queries\n",
    "   3.e Location of all venues\n",
    "   3.f How far are venues from the core location?\n",
    "   3.g Venue Categories\n",
    "   3.h Rating of all Venues\n",
    "   3.i Number of Tips for all Venues\n",
    "   3.j Extracting Rated and Tips Venues\n",
    "   3.k Final list of Venues\n",
    "   3.l Clustering based on venues\n",
    "   3.m Center of all clusters & Midpoint of all venues\n",
    "\n",
    "4 Results Section\n",
    "\n",
    "   4.a My hotel location\n",
    "   4.b Top Rated Venues\n",
    "   4.c Spot my hotel against others\n",
    "   4.d Few more Stats\n",
    "\n",
    "5 Discussion Section\n",
    "\n",
    "6 Conclusion Section"
   ]
  },
  {
   "cell_type": "markdown",
   "metadata": {},
   "source": [
    "# 1. Introduction/Business Problem"
   ]
  },
  {
   "cell_type": "markdown",
   "metadata": {},
   "source": [
    "**Discussion of the business problem and the audience who would be interested in this project.**\n",
    "\n",
    "Something about the tourist place - KANYAKUMARI,INDIA\n",
    "I am from kanyakumari,a beautiful tourist spot in southern India.Kanyakumari is a coastal town in the state of Tamil Nadu on India's southern tip. Jutting into the Laccadive Sea, the town was known as Cape Comorin during British rule and is popular for watching sunrise and sunset over the ocean.Kanyakumari is also home to the Statue of the Saint Poet Thiruvalluvar, one of the greatest Tamil poets in India. Standing at a massive height of 133 feet, the statue is one of the biggest in the entire Asian subcontinent and is the result of the hard work of over 500 sculptors. Other historic sights that you can visit in Kanyakumari include the Padmanabhapuram Palace, the Vattakottai Fort, and the Gandhi Memorial.\n",
    "\n",
    "**Opening of Hotel/Restaurant Shop**\n",
    "\n",
    "Coming down to business problem,I would like to open a hotel/restaurant near beach side.As it is a famous tourist spot,there is already lots of attention towards it.I know there will be many competitors in terms of hotel and restauramt.But keeping them in mind,i need to locate my hotel in place where more people are attracted and comfortable for a stay and a good meal.I want to bring foreign and local peoples attention towards my new hotel.I would like to flavour my retaurant recipe with Italian,American,typical south & north indian foods to grab their taste.\n",
    "\n",
    "The challenge is to find a suitable location for opening a new hotel / restaurant attracted to all local and foreign people in the centre of all famous venues.\n",
    "\n",
    "**Expected / Interested Audience**\n",
    "\n",
    "85% local and 15% foreign peoples visit kanyakumari once in a year.Some people stay for couple of days or more.Also they find some place for hangout or a good meal.Their main focus might be belonging to stay somewhere near to reach venues.Apart from these set of people,students and working professionals are common audience here.So we may need to fascinate them all."
   ]
  },
  {
   "cell_type": "markdown",
   "metadata": {},
   "source": [
    "# 2. Data section"
   ]
  },
  {
   "cell_type": "markdown",
   "metadata": {},
   "source": [
    "**2.a What data is used?**\n",
    "\n",
    "We will be completely working on Foursquare data to explore and try to locate our new hotel where more venues like church, temples, beach, museums, memorials that are present nearby.\n",
    "\n",
    "How will we be solving using this data?\n",
    "\n",
    "We will looking for midpoint area of venues to locate our new hotel.Before that our major focus will be on all venues present in and around the core place of kanyakumari.\n",
    "\n",
    "Just a heads up on how many hotels are distributed now around kanyakumari.We will perform some EDA on hotels & restaurants present in the tourist spot.On furthur notebook we will use Foursquare data to determine other venues as well."
   ]
  },
  {
   "cell_type": "markdown",
   "metadata": {},
   "source": [
    "**2.b Importing Libraries**"
   ]
  },
  {
   "cell_type": "code",
   "execution_count": 1,
   "metadata": {},
   "outputs": [
    {
     "ename": "ModuleNotFoundError",
     "evalue": "No module named 'geopy'",
     "output_type": "error",
     "traceback": [
      "\u001b[1;31m---------------------------------------------------------------------------\u001b[0m",
      "\u001b[1;31mModuleNotFoundError\u001b[0m                       Traceback (most recent call last)",
      "\u001b[1;32m<ipython-input-1-07804795d054>\u001b[0m in \u001b[0;36m<module>\u001b[1;34m\u001b[0m\n\u001b[0;32m     19\u001b[0m \u001b[1;33m\u001b[0m\u001b[0m\n\u001b[0;32m     20\u001b[0m \u001b[1;31m#!conda install -c conda-forge geopy --yes\u001b[0m\u001b[1;33m\u001b[0m\u001b[1;33m\u001b[0m\u001b[1;33m\u001b[0m\u001b[0m\n\u001b[1;32m---> 21\u001b[1;33m \u001b[1;32mfrom\u001b[0m \u001b[0mgeopy\u001b[0m\u001b[1;33m.\u001b[0m\u001b[0mgeocoders\u001b[0m \u001b[1;32mimport\u001b[0m \u001b[0mNominatim\u001b[0m\u001b[1;33m\u001b[0m\u001b[1;33m\u001b[0m\u001b[0m\n\u001b[0m\u001b[0;32m     22\u001b[0m \u001b[1;33m\u001b[0m\u001b[0m\n\u001b[0;32m     23\u001b[0m \u001b[1;31m#!conda install -c conda-forge folium=0.5.0 --yes\u001b[0m\u001b[1;33m\u001b[0m\u001b[1;33m\u001b[0m\u001b[1;33m\u001b[0m\u001b[0m\n",
      "\u001b[1;31mModuleNotFoundError\u001b[0m: No module named 'geopy'"
     ]
    }
   ],
   "source": [
    "# Import libraries\n",
    "import numpy as np # data in a vectorized manner manipulation\n",
    "import pandas as pd # data analsysis\n",
    "import requests # HTTP library\n",
    "from bs4 import BeautifulSoup # scraping library\n",
    "\n",
    "from pandas.io.json import json_normalize # tranform JSON file into a pandas dataframe\n",
    "import json # JSON files manipulation\n",
    "\n",
    "from sklearn.cluster import KMeans # clustering algorithm\n",
    "\n",
    "pd.set_option('display.max_columns', None)\n",
    "pd.set_option('display.max_rows', None)\n",
    "\n",
    "# Matplotlib and associated plotting modules\n",
    "import matplotlib.cm as cm\n",
    "import matplotlib.colors as colors\n",
    "import matplotlib.pyplot as plt\n",
    "\n",
    "#!conda install -c conda-forge geopy --yes \n",
    "from geopy.geocoders import Nominatim\n",
    "\n",
    "#!conda install -c conda-forge folium=0.5.0 --yes\n",
    "import folium # map rendering library\n",
    "\n",
    "print(\"*********   Loaded library     ***********\")"
   ]
  },
  {
   "cell_type": "markdown",
   "metadata": {},
   "source": [
    "**2.c Credentials and Core location**"
   ]
  },
  {
   "cell_type": "code",
   "execution_count": 2,
   "metadata": {},
   "outputs": [
    {
     "ename": "NameError",
     "evalue": "name 'Nominatim' is not defined",
     "output_type": "error",
     "traceback": [
      "\u001b[1;31m---------------------------------------------------------------------------\u001b[0m",
      "\u001b[1;31mNameError\u001b[0m                                 Traceback (most recent call last)",
      "\u001b[1;32m<ipython-input-2-f9ae4dc55c85>\u001b[0m in \u001b[0;36m<module>\u001b[1;34m\u001b[0m\n\u001b[0;32m      6\u001b[0m \u001b[0maddress\u001b[0m \u001b[1;33m=\u001b[0m \u001b[1;34m\"Kanyakumari, Tamil Nadu\"\u001b[0m\u001b[1;33m\u001b[0m\u001b[1;33m\u001b[0m\u001b[0m\n\u001b[0;32m      7\u001b[0m \u001b[1;33m\u001b[0m\u001b[0m\n\u001b[1;32m----> 8\u001b[1;33m \u001b[0mgeolocator\u001b[0m \u001b[1;33m=\u001b[0m \u001b[0mNominatim\u001b[0m\u001b[1;33m(\u001b[0m\u001b[0muser_agent\u001b[0m\u001b[1;33m=\u001b[0m\u001b[1;34m\"foursquare_agent\"\u001b[0m\u001b[1;33m)\u001b[0m\u001b[1;33m\u001b[0m\u001b[1;33m\u001b[0m\u001b[0m\n\u001b[0m\u001b[0;32m      9\u001b[0m \u001b[0mlocation\u001b[0m \u001b[1;33m=\u001b[0m \u001b[0mgeolocator\u001b[0m\u001b[1;33m.\u001b[0m\u001b[0mgeocode\u001b[0m\u001b[1;33m(\u001b[0m\u001b[0maddress\u001b[0m\u001b[1;33m)\u001b[0m\u001b[1;33m\u001b[0m\u001b[1;33m\u001b[0m\u001b[0m\n\u001b[0;32m     10\u001b[0m \u001b[0mlatitude\u001b[0m \u001b[1;33m=\u001b[0m\u001b[0mlocation\u001b[0m\u001b[1;33m.\u001b[0m\u001b[0mlatitude\u001b[0m   \u001b[1;31m#8.079252 # location.latitude\u001b[0m\u001b[1;33m\u001b[0m\u001b[1;33m\u001b[0m\u001b[0m\n",
      "\u001b[1;31mNameError\u001b[0m: name 'Nominatim' is not defined"
     ]
    }
   ],
   "source": [
    "CLIENT_ID = 'XXXX' # your Foursquare ID\n",
    "CLIENT_SECRET = 'XXXX' # your Foursquare Secret\n",
    "VERSION = '20191028'\n",
    "LIMIT = 150\n",
    "\n",
    "address = \"Kanyakumari, Tamil Nadu\"\n",
    "\n",
    "geolocator = Nominatim(user_agent=\"foursquare_agent\")\n",
    "location = geolocator.geocode(address)\n",
    "latitude =location.latitude   #8.079252 # location.latitude \n",
    "longitude =location.longitude #77.5499338 # location.longitude # \n",
    "\n",
    "kan='Kanyakumari location : {},{}'.format(latitude,longitude)\n",
    "print(kan)"
   ]
  },
  {
   "cell_type": "markdown",
   "metadata": {},
   "source": [
    "**2.d Search for hotel & restaurant within 1 KM**"
   ]
  },
  {
   "cell_type": "code",
   "execution_count": null,
   "metadata": {},
   "outputs": [],
   "source": [
    "#Quering for hotel & restaurant\n",
    "\n",
    "search_query = 'hotel'\n",
    "search_query_res = 'restaurant'\n",
    "\n",
    "radius = 1000\n",
    "url_hotel = 'https://api.foursquare.com/v2/venues/search?client_id={}&client_secret={}&ll={},{}&v={}&query={}&radius={}&limit={}'.format(CLIENT_ID, CLIENT_SECRET, latitude, longitude, VERSION, search_query, radius, LIMIT)\n",
    "url_restaurant = 'https://api.foursquare.com/v2/venues/search?client_id={}&client_secret={}&ll={},{}&v={}&query={}&radius={}&limit={}'.format(CLIENT_ID, CLIENT_SECRET, latitude, longitude, VERSION, search_query_res, radius, LIMIT)\n",
    "#url"
   ]
  },
  {
   "cell_type": "markdown",
   "metadata": {},
   "source": [
    "*Send the GET Request of hotel & restaurants and examine the results*"
   ]
  },
  {
   "cell_type": "code",
   "execution_count": null,
   "metadata": {},
   "outputs": [],
   "source": [
    "results_hotel = requests.get(url_hotel).json()\n",
    "results_restaurant = requests.get(url_restaurant).json()\n",
    "#results_hotel\n"
   ]
  },
  {
   "cell_type": "markdown",
   "metadata": {},
   "source": [
    "*Get relevant part of JSON and transform it into a pandas dataframe*"
   ]
  },
  {
   "cell_type": "code",
   "execution_count": null,
   "metadata": {},
   "outputs": [],
   "source": [
    "# assign relevant part of JSON to venues\n",
    "venues_hotel = results_hotel['response']['venues']\n",
    "venues_restaurant = results_restaurant['response']['venues']\n",
    "\n",
    "# tranform venues into a dataframe and merging both data\n",
    "dataframe_hotel = json_normalize(venues_hotel)\n",
    "dataframe_restaurant = json_normalize(venues_restaurant)\n",
    "\n",
    "dataframe = pd.concat([dataframe_hotel,dataframe_restaurant])\n",
    "\n",
    "print(\"There are {} restaurants and hotels at Kanyakumari\".format(dataframe.shape[0]))"
   ]
  },
  {
   "cell_type": "markdown",
   "metadata": {},
   "source": [
    "**Define information of interest and filter dataframe**"
   ]
  },
  {
   "cell_type": "code",
   "execution_count": null,
   "metadata": {},
   "outputs": [],
   "source": [
    "# keep only columns that include venue name, and anything that is associated with location\n",
    "filtered_columns = ['name', 'categories'] + [col for col in dataframe.columns if col.startswith('location.')] + ['id']\n",
    "dataframe_filtered = dataframe.loc[:, filtered_columns]\n",
    "\n",
    "# function that extracts the category of the venue\n",
    "\n",
    "def get_category_type(row):\n",
    "    try:\n",
    "        categories_list = row['categories']\n",
    "    except:\n",
    "        categories_list = row['venue.categories']\n",
    "        \n",
    "    if len(categories_list) == 0:\n",
    "        return None\n",
    "    else:\n",
    "        return categories_list[0]['name']\n",
    "\n",
    "    \n",
    "# filter the category for each row\n",
    "dataframe_filtered['categories'] = dataframe_filtered.apply(get_category_type, axis=1)\n",
    "\n",
    "  \n",
    "# clean column names by keeping only last term\n",
    "dataframe_filtered.columns = [column.split('.')[-1] for column in dataframe_filtered.columns]\n",
    "\n",
    "#dataframe_filtered\n",
    "hotels_df=dataframe_filtered[['name','categories','distance','lat','lng','id']]\n",
    "hotels_df.head()"
   ]
  },
  {
   "cell_type": "markdown",
   "metadata": {},
   "source": [
    "**2.e Location of Hotels**"
   ]
  },
  {
   "cell_type": "code",
   "execution_count": null,
   "metadata": {},
   "outputs": [],
   "source": [
    "hotels_map = folium.Map(location=[latitude, longitude], zoom_start=16) # generate map centred around the Kanyakumari\n",
    "\n",
    "# add a red circle marker to represent the core location of kanyakumari\n",
    "folium.features.CircleMarker(\n",
    "    [latitude, longitude],\n",
    "    radius=10,\n",
    "    color='red',\n",
    "    popup='Kanyakumari',\n",
    "    fill = True,\n",
    "    fill_color = 'red',\n",
    "    fill_opacity = 0.6\n",
    ").add_to(hotels_map)\n",
    "\n",
    "# add the Italian restaurants as blue circle markers\n",
    "for lat, lng, label in zip(hotels_df.lat, hotels_df.lng, hotels_df.name):\n",
    "    folium.features.CircleMarker(\n",
    "        [lat, lng],\n",
    "        radius=5,\n",
    "        color='blue',\n",
    "        popup=label,\n",
    "        fill = True,\n",
    "        fill_color='blue',\n",
    "        fill_opacity=0.6\n",
    "    ).add_to(hotels_map)\n",
    "\n",
    "# display map\n",
    "hotels_map"
   ]
  },
  {
   "cell_type": "markdown",
   "metadata": {},
   "source": [
    "# 3.Methodology section"
   ]
  },
  {
   "cell_type": "markdown",
   "metadata": {},
   "source": [
    "In this sections we will perform some data analysis and EDA to find insight from data.We will try to understand the current stats of all given data.Probably,clustering or centroid of all venues will help us to locate new hotel."
   ]
  },
  {
   "cell_type": "markdown",
   "metadata": {},
   "source": [
    "**3.a Removing Outlier - Hotel Bharani**"
   ]
  },
  {
   "cell_type": "code",
   "execution_count": null,
   "metadata": {},
   "outputs": [],
   "source": [
    "dataframe_filtered=dataframe_filtered.drop(dataframe_filtered[dataframe_filtered.name =='Hotel Bharani'].index)\n",
    "hotels_df=dataframe_filtered\n",
    "print(\"So Now there are {} hotels & restaurants present in kanyakumari\".format(dataframe_filtered.shape[0]))"
   ]
  },
  {
   "cell_type": "markdown",
   "metadata": {},
   "source": [
    "**3.b How Far are hotels from the core location**"
   ]
  },
  {
   "cell_type": "code",
   "execution_count": null,
   "metadata": {},
   "outputs": [],
   "source": [
    "distance_hotel_df=dataframe_filtered[['name','categories','distance','lat','lng']].sort_values('distance')\n",
    "\n",
    "def plot_bar_x():\n",
    "    # this is for plotting purpose\n",
    "    index = np.arange(len(distance_hotel_df.name))\n",
    "    plt.bar(distance_hotel_df.name, distance_hotel_df.distance)\n",
    "    plt.xlabel('Hotels')\n",
    "    plt.ylabel('Distance from location (Metres)')\n",
    "    plt.xticks(distance_hotel_df.name,rotation=90)\n",
    "    plt.title('Hotels Vs Distance')\n",
    "    plt.show()\n",
    "plot_bar_x()\n",
    "\n",
    "print(\"Average distance between hotels and core location is {} metres\".format(int(sum(hotels_df['distance'])/hotels_df.shape[0])))"
   ]
  },
  {
   "cell_type": "markdown",
   "metadata": {},
   "source": [
    "**3.c Explore for other venues around Kanyakumari**"
   ]
  },
  {
   "cell_type": "code",
   "execution_count": null,
   "metadata": {},
   "outputs": [],
   "source": [
    "radius=1000\n",
    "url_venues = 'https://api.foursquare.com/v2/venues/explore?client_id={}&client_secret={}&ll={},{}&v={}&radius={}&limit={}'.format(CLIENT_ID, CLIENT_SECRET, latitude, longitude, VERSION, radius, LIMIT)\n",
    "#url_venues"
   ]
  },
  {
   "cell_type": "code",
   "execution_count": null,
   "metadata": {},
   "outputs": [],
   "source": [
    "import requests\n",
    "\n",
    "results_venues = requests.get(url_venues).json()\n",
    "'There are {} venues around kanyakumari.'.format(len(results_venues['response']['groups'][0]['items']))"
   ]
  },
  {
   "cell_type": "code",
   "execution_count": null,
   "metadata": {},
   "outputs": [],
   "source": [
    "items_venues = results_venues['response']['groups'][0]['items']\n",
    "#items_venues[0]\n",
    "\n",
    "dataframe_venues = json_normalize(items_venues) # flatten JSON\n",
    "\n",
    "# filter columns\n",
    "filtered_columns = ['venue.name', 'venue.categories'] + [col for col in dataframe_venues.columns if col.startswith('venue.location.')] + ['venue.id']\n",
    "dataframe_filtered_venues = dataframe_venues.loc[:, filtered_columns]\n",
    "\n",
    "# filter the category for each row\n",
    "dataframe_filtered_venues['venue.categories'] = dataframe_filtered_venues.apply(get_category_type, axis=1)\n",
    "\n",
    "# clean columns\n",
    "dataframe_filtered_venues.columns = [col.split('.')[-1] for col in dataframe_filtered_venues.columns]\n",
    "\n",
    "dataframe_filtered_venues.name"
   ]
  },
  {
   "cell_type": "markdown",
   "metadata": {},
   "source": [
    "**3.d Extract Venues using Search Queries**"
   ]
  },
  {
   "cell_type": "code",
   "execution_count": null,
   "metadata": {},
   "outputs": [],
   "source": [
    "# search query function\n",
    "search_query_list = ['temple','church','park','museum'] \n",
    "radius =1000\n",
    "temp_df=[]\n",
    "search_df=[]\n",
    "\n",
    "def search_query_fn():   \n",
    "    #Loop to run through urls and from json to pandas\n",
    "    for i in range(len(search_query_list)):\n",
    "        url= 'https://api.foursquare.com/v2/venues/search?client_id={}&client_secret={}&ll={},{}&v={}&query={}&radius={}&limit={}'.format(CLIENT_ID, CLIENT_SECRET, latitude, longitude, VERSION, search_query_list[i], radius, LIMIT)\n",
    "        \n",
    "        results=requests.get(url).json()\n",
    "        venues = results['response']['venues']\n",
    "        \n",
    "        #Normalize from json\n",
    "        dataframe = json_normalize(venues)\n",
    "        \n",
    "        #Removing unwanted column headers\n",
    "        dataframe.columns = [col.split('.')[-1] for col in dataframe.columns]\n",
    "        temp_df.append(dataframe)\n",
    "    \n",
    "    #Loop to append dataframes to single dataframe\n",
    "    for j in range(len(search_query_list)):\n",
    "        data=temp_df[j]\n",
    "        search_df.append(data)\n",
    "\n",
    "# Function to run loop over queries\n",
    "search_query_fn()\n",
    "\n",
    "search_df = pd.concat(search_df,sort=True)\n",
    "search_df['categories'] = search_df.apply(get_category_type, axis=1)\n",
    "search_df = pd.DataFrame(search_df[['name','categories','distance','lat','lng','id']])\n",
    "search_df"
   ]
  },
  {
   "cell_type": "code",
   "execution_count": null,
   "metadata": {},
   "outputs": [],
   "source": [
    "# Data extracted from foursquare venues\n",
    "four_sq_venue=pd.DataFrame(dataframe_filtered_venues[['name','categories','distance','lat','lng','id']])\n",
    "\n",
    "# Data extracted from search queries\n",
    "new_venues=pd.DataFrame(search_df)\n",
    "\n",
    "# Concatenate both dataframe\n",
    "df_venue=pd.concat([four_sq_venue, new_venues],sort=True)"
   ]
  },
  {
   "cell_type": "code",
   "execution_count": null,
   "metadata": {},
   "outputs": [],
   "source": [
    "to_drop = ['Hotel', 'Restautant','hotel','Resort']\n",
    "df_venues = df_venue[~df_venue['name'].str.contains('|'.join(to_drop))].reset_index()\n",
    "print(\"There are {} venues in kanyakumari\".format(df_venues.shape[0]))\n",
    "df_venues[['name','distance','id']]"
   ]
  },
  {
   "cell_type": "markdown",
   "metadata": {},
   "source": [
    "**3.e Location of all venues**"
   ]
  },
  {
   "cell_type": "code",
   "execution_count": null,
   "metadata": {},
   "outputs": [],
   "source": [
    "venues_map = folium.Map(location=[latitude, longitude], zoom_start=16) # generate map centred around the Conrad Hotel\n",
    "\n",
    "# add a red circle marker to represent the Kanyakumari\n",
    "folium.features.CircleMarker(\n",
    "    [latitude, longitude],\n",
    "    radius=10,\n",
    "    color='red',\n",
    "    popup='kanyakumari',\n",
    "    fill = True,\n",
    "    fill_color = 'red',\n",
    "    fill_opacity = 0.6\n",
    ").add_to(venues_map)\n",
    "\n",
    "# add the Italian restaurants as blue circle markers\n",
    "for lat, lng, label in zip(df_venues.lat, df_venues.lng, df_venues.name):\n",
    "    folium.features.CircleMarker(\n",
    "        [lat, lng],\n",
    "        radius=5,\n",
    "        color='black',\n",
    "        #popup=label,\n",
    "        fill = True,\n",
    "        fill_color='black',\n",
    "        fill_opacity=0.6\n",
    "    ).add_to(venues_map)\n",
    "\n",
    "# display map\n",
    "venues_map"
   ]
  },
  {
   "cell_type": "markdown",
   "metadata": {},
   "source": [
    "**3.f How far are venues from the core location**"
   ]
  },
  {
   "cell_type": "code",
   "execution_count": null,
   "metadata": {},
   "outputs": [],
   "source": [
    "distance_venues_df=df_venues.sort_values('distance')\n",
    "\n",
    "def plot_bar_venue():\n",
    "    # this is for plotting purpose\n",
    "    index = np.arange(len(distance_venues_df.name))\n",
    "    plt.bar(distance_venues_df.name, distance_venues_df.distance)\n",
    "    plt.xlabel('Venues')\n",
    "    plt.ylabel('Distance from location (Metres)')\n",
    "    plt.xticks(distance_venues_df.name,rotation=90)\n",
    "    plt.title('Famous Venues Vs Distance')\n",
    "    plt.show()\n",
    "plot_bar_venue()"
   ]
  },
  {
   "cell_type": "markdown",
   "metadata": {},
   "source": [
    "**3.g Venue Categories**"
   ]
  },
  {
   "cell_type": "code",
   "execution_count": null,
   "metadata": {},
   "outputs": [],
   "source": [
    "freq_venue=df_venues['categories'].value_counts()\n",
    "freq_venue=pd.DataFrame(freq_venue).reset_index()\n",
    "freq_venue.columns=['Category','Count']\n",
    "freq_venue\n",
    "\n",
    "def plot_bar_categ():\n",
    "    # this is for plotting purpose\n",
    "    index = np.arange(len(freq_venue.Category))\n",
    "    plt.bar(freq_venue.Category, freq_venue.Count)\n",
    "    plt.xlabel('Category')\n",
    "    plt.ylabel('Count')\n",
    "    plt.xticks(freq_venue.Category,rotation=90)\n",
    "    plt.title('Venue Categories')\n",
    "    plt.show()\n",
    "plot_bar_categ()"
   ]
  },
  {
   "cell_type": "markdown",
   "metadata": {},
   "source": [
    "**3.h Rating of all Venues**"
   ]
  },
  {
   "cell_type": "code",
   "execution_count": null,
   "metadata": {},
   "outputs": [],
   "source": [
    "rating_df=[]\n",
    "\n",
    "for k in range(df_venues.shape[0]):\n",
    "    venue_id=df_venues.id[k]\n",
    "    url = 'https://api.foursquare.com/v2/venues/{}?client_id={}&client_secret={}&v={}'.format(venue_id, CLIENT_ID, CLIENT_SECRET, VERSION)\n",
    "    result = requests.get(url).json()\n",
    "    #print(result)\n",
    "    try:\n",
    "        #print(df_venues.name[k],result['response']['venue']['rating'])\n",
    "        rating=result['response']['venue']['rating']\n",
    "        rating_df.append(rating)\n",
    "        \n",
    "    except:\n",
    "        #print(df_venues.name[k],'This venue has not been rated yet.')\n",
    "        rating='No Rating Yet'\n",
    "        rating_df.append(rating)"
   ]
  },
  {
   "cell_type": "code",
   "execution_count": null,
   "metadata": {},
   "outputs": [],
   "source": [
    "rate_dict = {'Venue': df_venues.name, 'Rating': rating_df,'distance':df_venues.distance}\n",
    "rate_df=pd.DataFrame(rate_dict)\n",
    "rate_df"
   ]
  },
  {
   "cell_type": "markdown",
   "metadata": {},
   "source": [
    "**3.i Number of Tips for all Venues**"
   ]
  },
  {
   "cell_type": "code",
   "execution_count": null,
   "metadata": {},
   "outputs": [],
   "source": [
    "tips_df=[]\n",
    "\n",
    "for k in range(df_venues.shape[0]):\n",
    "    venue_id=df_venues.id[k]\n",
    "    url = 'https://api.foursquare.com/v2/venues/{}?client_id={}&client_secret={}&v={}'.format(venue_id, CLIENT_ID, CLIENT_SECRET, VERSION)\n",
    "    result = requests.get(url).json()\n",
    "    \n",
    "    #print(result['response']['venue']['tips']['count'],result['response']['venue'])\n",
    "    tips=result['response']['venue']['tips']['count']\n",
    "    tips_df.append(tips)"
   ]
  },
  {
   "cell_type": "code",
   "execution_count": null,
   "metadata": {},
   "outputs": [],
   "source": [
    "tips_dict = {'Venue': df_venues.name, 'Tips': tips_df,'distance':df_venues.distance}\n",
    "tips=pd.DataFrame(tips_dict)\n",
    "tips=tips.sort_values('Tips',ascending = False)\n",
    "tips"
   ]
  },
  {
   "cell_type": "markdown",
   "metadata": {},
   "source": [
    "**3.j Extracting Rated and Tips Venues**"
   ]
  },
  {
   "cell_type": "code",
   "execution_count": null,
   "metadata": {},
   "outputs": [],
   "source": [
    "# Add Tips column to Rating Dataframe\n",
    "rate_df['Tips']=tips['Tips']\n",
    "\n",
    "#Lets take values of only rated venues\n",
    "only_rated_tips = rate_df[(rate_df['Rating']!='No Rating Yet') | (rate_df['Tips']!=0)]\n",
    "\n",
    "only_rated_tips.reset_index(inplace = True,drop = True) \n",
    "only_rated_tips"
   ]
  },
  {
   "cell_type": "markdown",
   "metadata": {},
   "source": [
    "**3.k Final list of Venues**"
   ]
  },
  {
   "cell_type": "code",
   "execution_count": null,
   "metadata": {},
   "outputs": [],
   "source": [
    "rated_list=[]\n",
    "for i in range(len(only_rated_tips)):\n",
    "    rated_tip_temp=only_rated_tips['Venue'][i]\n",
    "    rated_list.append(rated_tip_temp)\n",
    "\n",
    "#Masking all values present in list\n",
    "mask = df_venues['name'].isin(rated_list)\n",
    "\n",
    "final_venues = df_venues[mask]\n",
    "#final_venues['location']=final_venues['lat'].astype(str).str.cat(final_venues['lng'].astype(str), sep=' - ')\n",
    "final_venues.reset_index(inplace = True,drop = True) \n",
    "\n",
    "final_venues"
   ]
  },
  {
   "cell_type": "markdown",
   "metadata": {},
   "source": [
    "**3.l Clustering based on venues**"
   ]
  },
  {
   "cell_type": "code",
   "execution_count": null,
   "metadata": {},
   "outputs": [],
   "source": [
    "# one hot encoding\n",
    "neighbor_onehot = pd.get_dummies(final_venues[['categories']], prefix=\"\", prefix_sep=\"\")\n",
    "\n",
    "# add neighborhood column back to dataframe\n",
    "neighbor_onehot['name'] = final_venues['name'] \n",
    "\n",
    "# move neighborhood column to the first column\n",
    "fixed_columns = [neighbor_onehot.columns[-1]] + list(neighbor_onehot.columns[:-1])\n",
    "neighbor_onehot = neighbor_onehot[fixed_columns]\n",
    "\n",
    "neighbor_onehot.head()"
   ]
  },
  {
   "cell_type": "code",
   "execution_count": null,
   "metadata": {},
   "outputs": [],
   "source": [
    "neighbor_onehot.shape\n",
    "neighbor_grouped = neighbor_onehot.groupby('name').mean().reset_index()"
   ]
  },
  {
   "cell_type": "code",
   "execution_count": null,
   "metadata": {},
   "outputs": [],
   "source": [
    "# Top 10 venues\n",
    "num_top_venues = 10\n",
    "\n",
    "indicators = ['st', 'nd', 'rd']\n",
    "\n",
    "# create columns according to number of top venues\n",
    "columns = ['name']\n",
    "for ind in np.arange(num_top_venues):\n",
    "    try:\n",
    "        columns.append('{}{} Most Common Venue'.format(ind+1, indicators[ind]))\n",
    "    except:\n",
    "        columns.append('{}th Most Common Venue'.format(ind+1))\n",
    "\n",
    "# create a new dataframe\n",
    "neighborhoods_venues_sorted = pd.DataFrame(columns=columns)\n",
    "neighborhoods_venues_sorted['name'] = neighbor_grouped['name']"
   ]
  },
  {
   "cell_type": "code",
   "execution_count": null,
   "metadata": {},
   "outputs": [],
   "source": [
    "# Clustering\n",
    "\n",
    "# set number of clusters\n",
    "kclusters = 3\n",
    "\n",
    "neighbor_grouped_clustering = neighbor_grouped.drop('name', 1)\n",
    "\n",
    "# run k-means clustering\n",
    "kmeans = KMeans(n_clusters=kclusters, random_state=0).fit(neighbor_grouped_clustering)\n",
    "\n",
    "# check cluster labels generated for each row in the dataframe\n",
    "kmeans.labels_[0:10] \n",
    "\n",
    "\n",
    "# add clustering labels\n",
    "neighborhoods_venues_sorted.insert(0, 'Clustersss', kmeans.labels_)\n",
    "\n",
    "neighbor_merged = final_venues\n",
    "\n",
    "# merge toronto_grouped with toronto_data to add latitude/longitude for each neighborhood\n",
    "neighbor_merged = neighbor_merged.join(neighborhoods_venues_sorted.set_index('name'), on='name')\n",
    "\n",
    "kmeans"
   ]
  },
  {
   "cell_type": "markdown",
   "metadata": {},
   "source": [
    "**3.m Center of all clusters & Midpoint of all venues**"
   ]
  },
  {
   "cell_type": "code",
   "execution_count": null,
   "metadata": {},
   "outputs": [],
   "source": [
    "fin=neighbor_merged.groupby(['Clustersss']).mean()\n",
    "\n",
    "lati=sum(fin.lat)/len(fin.lat)\n",
    "longi=sum(fin.lng)/len(fin.lng)\n",
    "\n",
    "#Taking midpoint of top ten closest hotel\n",
    "venues_lan=sum(final_venues.lat)/len(final_venues.lat)\n",
    "venues_lng=sum(final_venues.lng)/len(final_venues.lng)\n",
    "\n",
    "final_latitude=(lati+venues_lan)/2\n",
    "final_longitude=(longi+venues_lng)/2\n",
    "\n",
    "print(\"Final location (Green Dot in our below given map) of our brand new hotel:{},{}\".format(final_latitude,final_longitude))"
   ]
  },
  {
   "cell_type": "code",
   "execution_count": null,
   "metadata": {},
   "outputs": [],
   "source": [
    "map_clusters = folium.Map(location=[latitude, longitude], zoom_start=17)\n",
    "\n",
    "# set color scheme for the clusters\n",
    "x = np.arange(kclusters)\n",
    "ys = [i + x + (i*x)**2 for i in range(kclusters)]\n",
    "colors_array = cm.rainbow(np.linspace(0, 1, len(ys)))\n",
    "rainbow = [colors.rgb2hex(i) for i in colors_array]\n",
    "\n",
    "folium.features.CircleMarker(\n",
    "    [final_latitude, final_longitude],\n",
    "    radius=10,\n",
    "    color='green',\n",
    "    popup='My hotel',\n",
    "    fill = True,\n",
    "    fill_color = 'green',\n",
    "    fill_opacity = 0.6\n",
    ").add_to(map_clusters)\n",
    "\n",
    "# add markers to the map\n",
    "markers_colors = []\n",
    "for lat, lon, poi, cluster in zip(neighbor_merged['lat'], neighbor_merged['lng'], neighbor_merged['name'], neighbor_merged['Clustersss']):\n",
    "    label = folium.Popup(str(poi) + ' Cluster ' + str(cluster), parse_html=True)\n",
    "    folium.CircleMarker(\n",
    "        [lat, lon],\n",
    "        radius=6,\n",
    "        popup=label,\n",
    "        color=rainbow[cluster-1],\n",
    "        fill=True,\n",
    "        fill_color=rainbow[cluster-1],\n",
    "        fill_opacity=0.7).add_to(map_clusters)\n",
    "\n",
    "       \n",
    "map_clusters"
   ]
  },
  {
   "cell_type": "markdown",
   "metadata": {},
   "source": [
    "# 4. Results section"
   ]
  },
  {
   "cell_type": "markdown",
   "metadata": {},
   "source": [
    "**4.a My hotel location**\n",
    "\n",
    "Final location is pointed at 8.07985,77.54973\n",
    "\n",
    "This location is at Beach Road opposite to Gandhi Memorial and Kumari Temple.\n",
    "\n",
    "Located at exact junction of two cross roads which can give more attention to people who passby.\n",
    "\n",
    "**4.b Top Rated Venues**\n",
    "\n",
    "Sunrise Point\n",
    "Vivekananda Rock Memorial\n",
    "End of the Land\n",
    "Kanyakumari Beach\n",
    "Triveni Sangam\n",
    "Gandhi Memorial\n",
    "All these venues are rated well than other and also they have more tips and located within 320 metres to core location of kanyakumari.So tourists may like to visit these places.\n",
    "\n",
    "**4.c Spot my hotel against others**\n",
    "\n",
    "Green - My hotel location\n",
    "Red - Kanyakumari core location.\n",
    "Black - Venues.\n",
    "Blue - Other hotels.\n",
    "My predicted location and core location are very close to each other which is expected.As this has central attraction,the predicted one almost matched with the core."
   ]
  },
  {
   "cell_type": "code",
   "execution_count": null,
   "metadata": {},
   "outputs": [],
   "source": [
    "my_hotel_vs_all = folium.Map(location=[latitude, longitude], zoom_start=16) # generate map centred around the Kanyakumari\n",
    "\n",
    "\n",
    "# add a red circle marker to represent the my hotel location\n",
    "folium.features.CircleMarker(\n",
    "    [final_latitude, final_longitude],\n",
    "    radius=10,\n",
    "    color='green',\n",
    "    popup='My Hotel',\n",
    "    fill = True,\n",
    "    fill_color = 'green',\n",
    "    fill_opacity = 0.6\n",
    ").add_to(my_hotel_vs_all)\n",
    "\n",
    "\n",
    "# add a red circle marker to represent the core location of kanyakumari\n",
    "folium.features.CircleMarker(\n",
    "    [latitude, longitude],\n",
    "    radius=10,\n",
    "    color='red',\n",
    "    popup='Kanyakumari',\n",
    "    fill = True,\n",
    "    fill_color = 'red',\n",
    "    fill_opacity = 0.6\n",
    ").add_to(my_hotel_vs_all)\n",
    "\n",
    "# add the Italian restaurants as blue circle markers\n",
    "for lat, lng, label in zip(hotels_df.lat, hotels_df.lng, hotels_df.name):\n",
    "    folium.features.CircleMarker(\n",
    "        [lat, lng],\n",
    "        radius=5,\n",
    "        color='blue',\n",
    "        popup=label,\n",
    "        fill = True,\n",
    "        fill_color='blue',\n",
    "        fill_opacity=0.6\n",
    "    ).add_to(my_hotel_vs_all)\n",
    "    \n",
    "    \n",
    "markers_colors = []\n",
    "for lat, lon, poi, cluster in zip(neighbor_merged['lat'], neighbor_merged['lng'], neighbor_merged['name'], neighbor_merged['Clwwe']):\n",
    "    label = folium.Popup(str(poi) + ' Cluster ' + str(cluster), parse_html=True)\n",
    "    folium.CircleMarker(\n",
    "        [lat, lon],\n",
    "        radius=6,\n",
    "        popup=label,\n",
    "        color='black',\n",
    "        fill=True,\n",
    "        fill_color='black',\n",
    "        fill_opacity=0.7).add_to(my_hotel_vs_all)\n",
    "\n",
    "\n",
    "# display map\n",
    "my_hotel_vs_all"
   ]
  },
  {
   "cell_type": "markdown",
   "metadata": {},
   "source": [
    "**4.d Few more Stats**\n",
    "\n",
    "- Most common categories of venues are Temples,Church,Beach in Kanyakumari\n",
    "- Average distance between all hotels is 454 metres.\n",
    "- Tri Star hotel,Hotel Saravana,Hotel Samudra will be our competitors as they stay close to our predicted location."
   ]
  },
  {
   "cell_type": "markdown",
   "metadata": {},
   "source": [
    "# 5. Discussion section\n",
    "\n",
    "From above reports,we could get an idea why the predicted one is pointed/clustered on the given spot.First most thing could be the center of attraction for the place.\n",
    "\n",
    "KMeans have figured out the most common place for all the venues.This output was very adjacent to the core location.This proves the accurate spotting of our predicted algorithm.\n",
    "\n",
    "Despite of the findings,there were some lack in data.Tips and ratings were missing for most of the venues.Also when I compared foursquare data with google map ,i could see there were many hotels and venues found missing in foursquare."
   ]
  },
  {
   "cell_type": "markdown",
   "metadata": {},
   "source": [
    "# 6. Conclusion section\n",
    "As a business person,one would be able to set up a hotel/restaurant on given spot.This will bring revenue automatically as we have located in very near to core one.We proved this with Kmeans.\n",
    "\n",
    "**Future Expectation:**\n",
    "\n",
    "As mentioned earlier,most of data needs to be extracted from googlemaps.Even though we got somewhat accurate prediction.To be very confident on concluding our output,we may need more data to analyse.\n",
    "\n",
    "Research based on hotel reviews and restaurant menus could be used for future purpose.\n",
    "\n",
    "**My Experience:**\n",
    "\n",
    "It was wonderful journey for me in IBM capstone and other courses.It can aid to layman people as well who dont know a pinch of Data science.Thanks to Coursera for keeping Skilful instructors with their awesome materials\n",
    "\n",
    "# THANK YOU!! HAPPY LEARNING !!!"
   ]
  },
  {
   "cell_type": "code",
   "execution_count": null,
   "metadata": {},
   "outputs": [],
   "source": []
  }
 ],
 "metadata": {
  "kernelspec": {
   "display_name": "Python 3",
   "language": "python",
   "name": "python3"
  },
  "language_info": {
   "codemirror_mode": {
    "name": "ipython",
    "version": 3
   },
   "file_extension": ".py",
   "mimetype": "text/x-python",
   "name": "python",
   "nbconvert_exporter": "python",
   "pygments_lexer": "ipython3",
   "version": "3.7.6"
  }
 },
 "nbformat": 4,
 "nbformat_minor": 4
}
